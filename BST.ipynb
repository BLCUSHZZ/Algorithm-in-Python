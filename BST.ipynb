{
 "cells": [
  {
   "cell_type": "code",
   "execution_count": 59,
   "metadata": {
    "collapsed": true
   },
   "outputs": [],
   "source": [
    "class Node(object):\n",
    "    def __init__(self, value, left=None, right=None):\n",
    "        self._value = value\n",
    "        self._left = left\n",
    "        self._right = right"
   ]
  },
  {
   "cell_type": "code",
   "execution_count": 134,
   "metadata": {},
   "outputs": [],
   "source": [
    "class BST(object):\n",
    "    def __init__(self, root=None):\n",
    "        self._root = root\n",
    "    \n",
    "    def get(self, key):\n",
    "        return self.__get(self._root, key)\n",
    "    def __get(self, node, key):\n",
    "        if node == None:\n",
    "            return None\n",
    "        if key == node._value:\n",
    "            return node._value\n",
    "        if key < node._value:\n",
    "            return self.__get(node._left, key)\n",
    "        else:\n",
    "            return self.__get(node._right, key)\n",
    "    \n",
    "    def add(self, value):\n",
    "        self._root = self.__add(self._root, value)\n",
    "    def __add(self, node, value):\n",
    "        if node is None:\n",
    "            return Node(value)\n",
    "        if value == node._value:\n",
    "            pass\n",
    "        else:\n",
    "            if value < node._value:\n",
    "                node._left = self.__add(node._left, value)\n",
    "            else:\n",
    "                node._right = self.__add(node._right, value)\n",
    "        return node\n",
    "    \n",
    "    def remove(self, key):\n",
    "        self._root = self.__remove(self._root, key)\n",
    "    def __remove(self, node, key):\n",
    "        if node is None:\n",
    "            return None\n",
    "        if key < node._value:\n",
    "            node._left = self.__remove(node._left, key)\n",
    "        elif key > node._value:\n",
    "            node._right = self.__remove(node._right, key)\n",
    "        else:\n",
    "            if node._left is None:\n",
    "                node = node._right\n",
    "            elif node._right is None:\n",
    "                node = node._left\n",
    "            else:\n",
    "                node._value = self.__get_max(node._left)\n",
    "                node._left = self.__remove(node._left, node._value)\n",
    "        return node\n",
    "    \n",
    "    def get_max(self):\n",
    "        return self.__get_max(self._root)\n",
    "    def __get_max(self, node):\n",
    "        if node is None:\n",
    "            return None\n",
    "        else:\n",
    "            while node._right is not None:\n",
    "                node = node._right\n",
    "        return node._value\n",
    "    \n",
    "    def print_inoder(self):\n",
    "        self.__print_inorder(self._root)\n",
    "    def __print_inorder(self, node):\n",
    "        if node is None:\n",
    "            return None\n",
    "        self.__print_inorder(node._left)\n",
    "        print(\"[\"+str(node._value)+\"]\", end = \" \")\n",
    "        self.__print_inorder(node._right)\n",
    "    \n",
    "    def print_preorder(self):\n",
    "        self.__print_preorder(self._root)\n",
    "    def __print_preorder(self, node):\n",
    "        if node is None:\n",
    "            return None\n",
    "        print(\"[\"+str(node._value)+\"]\", end = \" \")\n",
    "        self.__print_preorder(node._left)\n",
    "        self.__print_preorder(node._right)\n",
    "    \n",
    "    def print_postoder(self):\n",
    "        self.__print_postorder(self._root)\n",
    "    def __print_postorder(self, node):\n",
    "        if node is None:\n",
    "            return None\n",
    "        self.__print_postorder(node._left)\n",
    "        self.__print_postorder(node._right)\n",
    "        print(\"[\"+str(node._value)+\"]\", end = \" \")"
   ]
  },
  {
   "cell_type": "code",
   "execution_count": 135,
   "metadata": {
    "collapsed": true
   },
   "outputs": [],
   "source": [
    "bst = BST(Node(6))\n",
    "for item in [3,4,1,7,9]:\n",
    "    bst.add(item)"
   ]
  },
  {
   "cell_type": "code",
   "execution_count": 136,
   "metadata": {},
   "outputs": [
    {
     "data": {
      "text/plain": [
       "9"
      ]
     },
     "execution_count": 136,
     "metadata": {},
     "output_type": "execute_result"
    }
   ],
   "source": [
    "bst.get_max()"
   ]
  },
  {
   "cell_type": "code",
   "execution_count": 137,
   "metadata": {},
   "outputs": [],
   "source": [
    "bst.remove(6)"
   ]
  },
  {
   "cell_type": "code",
   "execution_count": 138,
   "metadata": {},
   "outputs": [
    {
     "data": {
      "text/plain": [
       "4"
      ]
     },
     "execution_count": 138,
     "metadata": {},
     "output_type": "execute_result"
    }
   ],
   "source": [
    "bst._root._value"
   ]
  },
  {
   "cell_type": "code",
   "execution_count": 139,
   "metadata": {},
   "outputs": [
    {
     "name": "stdout",
     "output_type": "stream",
     "text": [
      "[1] [3] [4] [7] [9] "
     ]
    }
   ],
   "source": [
    "bst.print_inoder()"
   ]
  },
  {
   "cell_type": "code",
   "execution_count": 140,
   "metadata": {},
   "outputs": [
    {
     "name": "stdout",
     "output_type": "stream",
     "text": [
      "[4] [3] [1] [7] [9] "
     ]
    }
   ],
   "source": [
    "bst.print_preorder()"
   ]
  },
  {
   "cell_type": "code",
   "execution_count": 141,
   "metadata": {},
   "outputs": [
    {
     "name": "stdout",
     "output_type": "stream",
     "text": [
      "[1] [3] [9] [7] [4] "
     ]
    }
   ],
   "source": [
    "bst.print_postoder()"
   ]
  },
  {
   "cell_type": "code",
   "execution_count": null,
   "metadata": {
    "collapsed": true
   },
   "outputs": [],
   "source": []
  },
  {
   "cell_type": "code",
   "execution_count": null,
   "metadata": {
    "collapsed": true
   },
   "outputs": [],
   "source": []
  },
  {
   "cell_type": "code",
   "execution_count": null,
   "metadata": {
    "collapsed": true
   },
   "outputs": [],
   "source": []
  },
  {
   "cell_type": "code",
   "execution_count": null,
   "metadata": {
    "collapsed": true
   },
   "outputs": [],
   "source": []
  },
  {
   "cell_type": "code",
   "execution_count": null,
   "metadata": {
    "collapsed": true
   },
   "outputs": [],
   "source": []
  },
  {
   "cell_type": "code",
   "execution_count": null,
   "metadata": {
    "collapsed": true
   },
   "outputs": [],
   "source": []
  }
 ],
 "metadata": {
  "kernelspec": {
   "display_name": "Python 3",
   "language": "python",
   "name": "python3"
  },
  "language_info": {
   "codemirror_mode": {
    "name": "ipython",
    "version": 3
   },
   "file_extension": ".py",
   "mimetype": "text/x-python",
   "name": "python",
   "nbconvert_exporter": "python",
   "pygments_lexer": "ipython3",
   "version": "3.6.1"
  }
 },
 "nbformat": 4,
 "nbformat_minor": 2
}
